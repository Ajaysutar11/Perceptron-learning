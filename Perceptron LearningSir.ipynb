{
 "cells": [
  {
   "cell_type": "code",
   "execution_count": 23,
   "id": "32d7924b",
   "metadata": {},
   "outputs": [],
   "source": [
    "import numpy as np\n",
    "import matplotlib.pyplot as plt"
   ]
  },
  {
   "cell_type": "code",
   "execution_count": 4,
   "id": "990259df",
   "metadata": {},
   "outputs": [],
   "source": [
    "X = np.array([[0,0,0],[0,0,1],[0,1,0],[0,1,1],[1,0,0],[1,0,1],[1,1,0],[1,1,1]])\n",
    "ya = np.array([0,1,0,0,1,1,0,1]).reshape(8,1)"
   ]
  },
  {
   "cell_type": "code",
   "execution_count": 5,
   "id": "ba1ede46",
   "metadata": {},
   "outputs": [
    {
     "data": {
      "text/plain": [
       "((8, 3), (8, 1))"
      ]
     },
     "execution_count": 5,
     "metadata": {},
     "output_type": "execute_result"
    }
   ],
   "source": [
    "X.shape, ya.shape"
   ]
  },
  {
   "cell_type": "code",
   "execution_count": 6,
   "id": "c0caea91",
   "metadata": {},
   "outputs": [],
   "source": [
    "def sigmoid(P):\n",
    "    return 1/(1+np.exp(-P))"
   ]
  },
  {
   "cell_type": "code",
   "execution_count": 7,
   "id": "cad64fc5",
   "metadata": {},
   "outputs": [
    {
     "data": {
      "text/plain": [
       "(0.9933071490757153, 0.0066928509242848554, 0.5)"
      ]
     },
     "execution_count": 7,
     "metadata": {},
     "output_type": "execute_result"
    }
   ],
   "source": [
    "sigmoid(5), sigmoid(-5), sigmoid(0)"
   ]
  },
  {
   "cell_type": "code",
   "execution_count": 9,
   "id": "81afae11",
   "metadata": {},
   "outputs": [
    {
     "data": {
      "text/plain": [
       "array([[ 2.64277252],\n",
       "       [-4.08056513],\n",
       "       [ 2.64237439]])"
      ]
     },
     "execution_count": 9,
     "metadata": {},
     "output_type": "execute_result"
    }
   ],
   "source": [
    "W = np.random.randn(3,1)\n",
    "for i in range(10):\n",
    "    yp = sigmoid(np.dot(X,W))\n",
    "    dw = np.dot(X.T, (yp-ya))\n",
    "    W  = W-dw\n",
    "W"
   ]
  },
  {
   "cell_type": "code",
   "execution_count": 11,
   "id": "957b9f5e",
   "metadata": {},
   "outputs": [
    {
     "data": {
      "text/plain": [
       "array([[0.],\n",
       "       [1.],\n",
       "       [0.],\n",
       "       [0.],\n",
       "       [1.],\n",
       "       [1.],\n",
       "       [0.],\n",
       "       [1.]])"
      ]
     },
     "execution_count": 11,
     "metadata": {},
     "output_type": "execute_result"
    }
   ],
   "source": [
    "np.round(sigmoid(np.dot(X,W))) # use trained wts"
   ]
  },
  {
   "cell_type": "markdown",
   "id": "f1c64dab",
   "metadata": {},
   "source": [
    "# Regression"
   ]
  },
  {
   "cell_type": "code",
   "execution_count": 32,
   "id": "a9cfab5b",
   "metadata": {},
   "outputs": [],
   "source": [
    "X = np.random.randint(0,5,(50,2))\n",
    "ya = X[:,0]*0.5 - X[:,1]*2 + 2.5"
   ]
  },
  {
   "cell_type": "code",
   "execution_count": 33,
   "id": "cd8a8845",
   "metadata": {},
   "outputs": [
    {
     "data": {
      "text/plain": [
       "((50, 2), (50, 1))"
      ]
     },
     "execution_count": 33,
     "metadata": {},
     "output_type": "execute_result"
    }
   ],
   "source": [
    "ya = ya.reshape(50,1)\n",
    "X.shape, ya.shape"
   ]
  },
  {
   "cell_type": "code",
   "execution_count": 37,
   "id": "65e17f1d",
   "metadata": {},
   "outputs": [],
   "source": [
    "W = np.random.randn(2,1)\n",
    "b = -1\n",
    "cost = []\n",
    "learning_rate=0.001\n",
    "for i in range(5000):\n",
    "    yp = np.dot(X,W) + b \n",
    "    dw = np.dot(X.T, (yp-ya))\n",
    "    W  = W-(learning_rate*dw)\n",
    "    db = np.sum(yp-ya)\n",
    "    b  = b-(learning_rate*db)\n",
    "    cost.append(np.sum((yp-ya)**2)/50)"
   ]
  },
  {
   "cell_type": "code",
   "execution_count": 39,
   "id": "06e373a7",
   "metadata": {},
   "outputs": [
    {
     "data": {
      "text/plain": [
       "[1.3421087795751379e-28,\n",
       " 1.3421087795751379e-28,\n",
       " 1.3421087795751379e-28,\n",
       " 1.3421087795751379e-28,\n",
       " 1.3421087795751379e-28]"
      ]
     },
     "execution_count": 39,
     "metadata": {},
     "output_type": "execute_result"
    }
   ],
   "source": [
    "cost[-5:]"
   ]
  },
  {
   "cell_type": "code",
   "execution_count": 40,
   "id": "bfef4872",
   "metadata": {},
   "outputs": [
    {
     "data": {
      "text/plain": [
       "(array([[ 0.5],\n",
       "        [-2. ]]),\n",
       " 2.4999999999999716)"
      ]
     },
     "execution_count": 40,
     "metadata": {},
     "output_type": "execute_result"
    }
   ],
   "source": [
    "W, b"
   ]
  },
  {
   "cell_type": "code",
   "execution_count": null,
   "id": "dc339153",
   "metadata": {},
   "outputs": [],
   "source": []
  }
 ],
 "metadata": {
  "kernelspec": {
   "display_name": "Python 3",
   "language": "python",
   "name": "python3"
  },
  "language_info": {
   "codemirror_mode": {
    "name": "ipython",
    "version": 3
   },
   "file_extension": ".py",
   "mimetype": "text/x-python",
   "name": "python",
   "nbconvert_exporter": "python",
   "pygments_lexer": "ipython3",
   "version": "3.8.8"
  }
 },
 "nbformat": 4,
 "nbformat_minor": 5
}
